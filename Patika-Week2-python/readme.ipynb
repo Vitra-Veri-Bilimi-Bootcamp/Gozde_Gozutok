{
 "cells": [
  {
   "cell_type": "markdown",
   "metadata": {},
   "source": [
    "## This python basics file contains 2 questions\n",
    "## In the first question\n",
    "### Bir listeyi düzleştiren (flatten) fonksiyon yazın. Elemanları birden çok katmanlı listtlerden ([[3],2] gibi) oluşabileceği gibi,\n",
    "### non-scalar verilerden de oluşabilir. Örnek olarak:\n",
    "\n",
    "input: [[1,'a',['cat'],2],[[[3]],'dog'],4,5]\n",
    "output: [1,'a','cat',2,3,'dog',4,5]\n",
    "\n",
    "## I flattened list of lists.\n",
    "\n",
    "## In the second part\n",
    "\n",
    "### Verilen listenin içindeki elemanları tersine döndüren bir fonksiyon yazın.Eğer listenin içindeki elemanlar da liste içeriyorsa onların elemanlarını da tersine döndürün. \n",
    "### Örnek olarak:\n",
    "\n",
    "input: [[1, 2], [3, 4], [5, 6, 7]]\n",
    "output: [[[7, 6, 5], [4, 3], [2, 1]]\n",
    "\n",
    "## I reversed list of lists. \n"
   ]
  }
 ],
 "metadata": {
  "kernelspec": {
   "display_name": "Python 3",
   "language": "python",
   "name": "python3"
  },
  "language_info": {
   "codemirror_mode": {
    "name": "ipython",
    "version": 3
   },
   "file_extension": ".py",
   "mimetype": "text/x-python",
   "name": "python",
   "nbconvert_exporter": "python",
   "pygments_lexer": "ipython3",
   "version": "3.8.5"
  }
 },
 "nbformat": 4,
 "nbformat_minor": 4
}
