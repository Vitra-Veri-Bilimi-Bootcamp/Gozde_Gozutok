{
 "cells": [
  {
   "cell_type": "markdown",
   "metadata": {},
   "source": [
    "\n",
    "# Bu ödev patika temel python eğitimi bitirme projesidir"
   ]
  },
  {
   "cell_type": "markdown",
   "metadata": {},
   "source": [
    "### 1-Bir listeyi düzleştiren (flatten) fonksiyon yazın. Elemanları birden çok katmanlı listtlerden ([[3],2] gibi) oluşabileceği gibi, non-scalar verilerden de oluşabilir.\n",
    "### Örnek olarak:\n",
    "\n",
    "### input: [[1,'a',['cat'],2],[[[3]],'dog'],4,5]\n",
    "### output: [1,'a','cat',2,3,'dog',4,5]\n"
   ]
  },
  {
   "cell_type": "code",
   "execution_count": 34,
   "metadata": {},
   "outputs": [
    {
     "name": "stdout",
     "output_type": "stream",
     "text": [
      "The flattened list is:  [1, 'a', 'cat', 2, 3, 'dog', 4, 5]\n"
     ]
    }
   ],
   "source": [
    "\n",
    "def flatten_list(listoflists):\n",
    "    if listoflists == []:    # If it is empty returns empty.\n",
    "        return listoflists\n",
    "    if isinstance(listoflists[0],type(list)):\n",
    "        return flatten_list(listoflists[0]) + flatten_list(listoflists[1:])\n",
    "    return listoflists[:1] + flatten_list(listoflists[1:])\n",
    "\n",
    "listoflists=[[1,'a',['cat'],2],[[[3]],'dog'],4,5]  # given list of lists\n",
    "\n",
    "print(\"The flattened list is: \", flatten_list(listoflists))\n"
   ]
  },
  {
   "cell_type": "markdown",
   "metadata": {},
   "source": [
    "## 2-Verilen listenin içindeki elemanları tersine döndüren bir fonksiyon yazın. Eğer listenin \n",
    "\n",
    "## içindeki elemanlar da liste içeriyorsa onların elemanlarını da tersine döndürün.\n",
    "\n",
    "## Örnek olarak:\n",
    "\n",
    "### input: [[1, 2], [3, 4], [5, 6, 7]]\n",
    "### output: [[[7, 6, 5], [4, 3], [2, 1]]"
   ]
  },
  {
   "cell_type": "code",
   "execution_count": 17,
   "metadata": {},
   "outputs": [
    {
     "data": {
      "text/plain": [
       "[[5, 6, 7], [3, 4], [1, 2]]"
      ]
     },
     "execution_count": 17,
     "metadata": {},
     "output_type": "execute_result"
    }
   ],
   "source": [
    "# We can use reverse method to reverse the list\n",
    "listoflists=[[1, 2], [3, 4], [5, 6, 7]]\n",
    "listoflists.reverse()\n",
    "listoflists"
   ]
  },
  {
   "cell_type": "code",
   "execution_count": 18,
   "metadata": {},
   "outputs": [
    {
     "data": {
      "text/plain": [
       "[2, 1]"
      ]
     },
     "execution_count": 18,
     "metadata": {},
     "output_type": "execute_result"
    }
   ],
   "source": [
    "# We can reverse each element of the list of list via indexing. For example:\n",
    "listoflists=[[1, 2], [3, 4], [5, 6, 7]]\n",
    "list=listoflists[0]\n",
    "list.reverse()\n",
    "list"
   ]
  },
  {
   "cell_type": "code",
   "execution_count": 19,
   "metadata": {},
   "outputs": [
    {
     "name": "stdout",
     "output_type": "stream",
     "text": [
      "Reversed list is:  [[7, 6, 5], [4, 3], [2, 1]]\n"
     ]
    }
   ],
   "source": [
    "# I used two ideas above to reverse list of lists.\n",
    "\n",
    "def reversing_list(listoflists):\n",
    "    if listoflists==[]:\n",
    "        return listoflists\n",
    "    else:\n",
    "        listoflists.reverse()\n",
    "        for i in range (0,int(len(listoflists))):\n",
    "            list=listoflists[i]\n",
    "            list.reverse()\n",
    "        return listoflists\n",
    "    return listoflists                                                                                                \n",
    "listoflists=[[1, 2], [3, 4], [5, 6, 7]]\n",
    "print(\"Reversed list is: \" , reversing_list(listoflists))\n",
    "    "
   ]
  }
 ],
 "metadata": {
  "kernelspec": {
   "display_name": "Python 3",
   "language": "python",
   "name": "python3"
  },
  "language_info": {
   "codemirror_mode": {
    "name": "ipython",
    "version": 3
   },
   "file_extension": ".py",
   "mimetype": "text/x-python",
   "name": "python",
   "nbconvert_exporter": "python",
   "pygments_lexer": "ipython3",
   "version": "3.8.5"
  }
 },
 "nbformat": 4,
 "nbformat_minor": 4
}
